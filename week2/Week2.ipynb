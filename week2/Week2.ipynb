{
 "cells": [
  {
   "cell_type": "markdown",
   "metadata": {},
   "source": [
    "\n",
    "---\n",
    "**Reinforcement**\n",
    "\n",
    "-   **R-1.1** Write a short Python function, `is_multiple(n, m)`, that takes two integer values and returns `True` if _n_ is a multiple of _m_, that is, _n_ = _mi_ for some integer _i_, and `False` otherwise.\n",
    "-   **R-1.2** Write a short Python function, `is_even(k)`, that takes an integer value and returns `True` if `k` is even, and **False** otherwise. However, your function cannot use the multiplication, modulo, or division operators.\n",
    "-   **R-1.3** Write a short Python function, `minmax(data)`, that takes a sequence of one or more numbers, and returns the smallest and largest numbers, in the form of a tuple of length two. Do not use the built-in functions `min` or `max` in implementing your solution.\n",
    "-   **R-1.4** Write a short Python function that takes a positive integer _n_ and returns the sum of the squares of all the positive integers smaller than _n_.\n",
    "-   **R-1.5** Give a single command that computes the sum from Exercise R-1.4, relying on Python's comprehension syntax and the built-in `sum` function.\n",
    "-   **R-1.6** Write a short Python function that takes a positive integer _n_ and returns the sum of the squares of all the odd positive integers smaller than _n_.\n",
    "-   **R-1.7** Give a single command that computes the sum from Exercise R-1.6, relying on Python's comprehension syntax and the built-in `sum` function.\n",
    "-   **R-1.8** Python allows negative integers to be used as indices into a sequence, such as a string. If string s has length _n_, and expression `s[k]` is used for index −_n_≤_k_<0, what is the equivalent index _j_ ≥ 0 such that `s[j]` references the same element?\n",
    "-   **R-1.9** What parameters should be sent to the `range` constructor, to produce a range with values 50, 60, 70, 80?"
   ]
  },
  {
   "cell_type": "code",
   "execution_count": 3,
   "metadata": {},
   "outputs": [
    {
     "name": "stdout",
     "output_type": "stream",
     "text": [
      "The factorial of 8 is 40320\n"
     ]
    }
   ],
   "source": [
    "def factorial(n):\n",
    "    if n == 0:\n",
    "        return 1\n",
    "    else:\n",
    "        return n * factorial(n - 1)\n",
    "\n",
    "\n",
    "# Example8 usage\n",
    "number = 8\n",
    "print(f\"The factorial of {number} is {factorial(number)}\")"
   ]
  },
  {
   "cell_type": "code",
   "execution_count": 4,
   "metadata": {},
   "outputs": [
    {
     "name": "stdout",
     "output_type": "stream",
     "text": [
      "The LCM of 54 and 24 is 216\n"
     ]
    }
   ],
   "source": [
    "def lcm(a, b):\n",
    "    # Start with the larger of the two numbers\n",
    "    if a > b:\n",
    "        greater = a\n",
    "    else:\n",
    "        greater = b\n",
    "\n",
    "    while True:\n",
    "        if greater % a == 0 and greater % b == 0:\n",
    "            lcm = greater\n",
    "            break\n",
    "        greater += 1\n",
    "\n",
    "    return lcm\n",
    "\n",
    "\n",
    "# Example usage\n",
    "num1 = 54\n",
    "num2 = 24\n",
    "print(f\"The LCM of {num1} and {num2} is {lcm(num1, num2)}\")"
   ]
  },
  {
   "cell_type": "code",
   "execution_count": 5,
   "metadata": {},
   "outputs": [
    {
     "name": "stdout",
     "output_type": "stream",
     "text": [
      "4\n",
      "8\n",
      "12\n",
      "16\n"
     ]
    }
   ],
   "source": [
    "arr = [[1, 2, 3, 4], [5, 6, 7, 8], [9, 10, 11, 12], [13, 14, 15, 16]]\n",
    "for i in range(0, 4):\n",
    "    print(arr[i].pop())"
   ]
  },
  {
   "cell_type": "code",
   "execution_count": 6,
   "metadata": {},
   "outputs": [
    {
     "name": "stdout",
     "output_type": "stream",
     "text": [
      "1\n"
     ]
    }
   ],
   "source": [
    "a = [\"1\", \"2\", \"3\", \"4\"]\n",
    "print(a.index(\"2\"))"
   ]
  },
  {
   "cell_type": "code",
   "execution_count": 7,
   "metadata": {},
   "outputs": [
    {
     "name": "stdout",
     "output_type": "stream",
     "text": [
      "[0, '2', '3', '5', '5', 0]\n"
     ]
    }
   ],
   "source": [
    "a = list(\"123456\")\n",
    "a[0] = a[5] = 0\n",
    "a[3] = a[-2]\n",
    "print(a)"
   ]
  },
  {
   "cell_type": "code",
   "execution_count": 19,
   "metadata": {},
   "outputs": [
    {
     "name": "stdout",
     "output_type": "stream",
     "text": [
      "Before iteration 1: [15, 20, 10, 18]\n",
      "After iteration 1: [15, 20, 10, 18]\n",
      "Before iteration 2: [15, 20, 10, 18]\n",
      "After iteration 2: [10, 15, 20, 18]\n",
      "Before iteration 3: [10, 15, 20, 18]\n",
      "After iteration 3: [10, 15, 18, 20]\n",
      "Final sorted list: [10, 15, 18, 20]\n"
     ]
    }
   ],
   "source": [
    "def insertion_sort(arr):\n",
    "    # Traverse from the second element (index 1) to the end\n",
    "    for i in range(1, len(arr)):\n",
    "        key = arr[i]\n",
    "        j = i - 1\n",
    "\n",
    "        # Print the current state before any changes\n",
    "        print(f\"Before iteration {i}: {arr}\")\n",
    "\n",
    "        # Move elements of arr[0..i-1] that are greater than key to one position ahead\n",
    "        while j >= 0 and arr[j] > key:\n",
    "            arr[j + 1] = arr[j]\n",
    "            j -= 1\n",
    "\n",
    "        # Insert the key in its correct position\n",
    "        arr[j + 1] = key\n",
    "\n",
    "        # Print the state after each iteration\n",
    "        print(f\"After iteration {i}: {arr}\")\n",
    "\n",
    "    # Final sorted list\n",
    "    print(f\"Final sorted list: {arr}\")\n",
    "\n",
    "\n",
    "# Example usage\n",
    "arr = [15, 20, 10, 18]\n",
    "insertion_sort(arr)"
   ]
  },
  {
   "cell_type": "code",
   "execution_count": null,
   "metadata": {},
   "outputs": [
    {
     "ename": "Empty",
     "evalue": "Stack is empty",
     "output_type": "error",
     "traceback": [
      "\u001b[1;31m---------------------------------------------------------------------------\u001b[0m",
      "\u001b[1;31mEmpty\u001b[0m                                     Traceback (most recent call last)",
      "Cell \u001b[1;32mIn[21], line 43\u001b[0m\n\u001b[0;32m     40\u001b[0m   \u001b[38;5;28;01mpass\u001b[39;00m\n\u001b[0;32m     42\u001b[0m S \u001b[38;5;241m=\u001b[39m ArrayStack()  \u001b[38;5;66;03m# contents: []\u001b[39;00m\n\u001b[1;32m---> 43\u001b[0m \u001b[43mS\u001b[49m\u001b[38;5;241;43m.\u001b[39;49m\u001b[43mpop\u001b[49m\u001b[43m(\u001b[49m\u001b[43m)\u001b[49m  \u001b[38;5;66;03m# contents: [];         outputs error\u001b[39;00m\n\u001b[0;32m     44\u001b[0m S\u001b[38;5;241m.\u001b[39mis_empty()  \u001b[38;5;66;03m# contents: [];         outputs True\u001b[39;00m\n\u001b[0;32m     45\u001b[0m S\u001b[38;5;241m.\u001b[39mpush(\u001b[38;5;241m5\u001b[39m)  \u001b[38;5;66;03m# contents: [5]\u001b[39;00m\n",
      "Cell \u001b[1;32mIn[21], line 35\u001b[0m, in \u001b[0;36mArrayStack.pop\u001b[1;34m(self)\u001b[0m\n\u001b[0;32m     30\u001b[0m \u001b[38;5;250m\u001b[39m\u001b[38;5;124;03m\"\"\"Remove and return the element from the top of the stack (i.e., LIFO).\u001b[39;00m\n\u001b[0;32m     31\u001b[0m \u001b[38;5;124;03m\u001b[39;00m\n\u001b[0;32m     32\u001b[0m \u001b[38;5;124;03mRaise Empty exception if the stack is empty.\u001b[39;00m\n\u001b[0;32m     33\u001b[0m \u001b[38;5;124;03m\"\"\"\u001b[39;00m\n\u001b[0;32m     34\u001b[0m \u001b[38;5;28;01mif\u001b[39;00m \u001b[38;5;28mself\u001b[39m\u001b[38;5;241m.\u001b[39mis_empty( ):\n\u001b[1;32m---> 35\u001b[0m    \u001b[38;5;28;01mraise\u001b[39;00m Empty(\u001b[38;5;124m'\u001b[39m\u001b[38;5;124mStack is empty\u001b[39m\u001b[38;5;124m'\u001b[39m)\n\u001b[0;32m     36\u001b[0m \u001b[38;5;28;01mreturn\u001b[39;00m \u001b[38;5;28mself\u001b[39m\u001b[38;5;241m.\u001b[39m_data\u001b[38;5;241m.\u001b[39mpop( )\n",
      "\u001b[1;31mEmpty\u001b[0m: Stack is empty"
     ]
    }
   ],
   "source": [
    "class ArrayStack:\n",
    "    \"\"\"LIFO Stack implementation using a Python list as underlying storage.\"\"\"\n",
    "\n",
    "    def __init__(self):\n",
    "        \"\"\"Create an empty stack.\"\"\"\n",
    "        self._data = []  # nonpublic list instance\n",
    "\n",
    "    def __len__(self):\n",
    "        \"\"\"Return the number of elements in the stack.\"\"\"\n",
    "        return len(self._data)\n",
    "\n",
    "    def is_empty(self):\n",
    "        \"\"\"Return True if the stack is empty.\"\"\"\n",
    "        return len(self._data) == 0\n",
    "\n",
    "    def push(self, e):\n",
    "        \"\"\"Add element e to the top of the stack.\"\"\"\n",
    "        self._data.append(e)  # new item stored at end of list\n",
    "\n",
    "    def top(self):\n",
    "        \"\"\"Return (but do not remove) the element at the top of the stack.\n",
    "\n",
    "        Raise Empty exception if the stack is empty.\n",
    "        \"\"\"\n",
    "        if self.is_empty():\n",
    "            raise Empty(\"Stack is empty\")\n",
    "        return self._data[-1]  # the last item in the list\n",
    "\n",
    "    def pop(self):\n",
    "        \"\"\"Remove and return the element from the top of the stack (i.e., LIFO).\n",
    "\n",
    "        Raise Empty exception if the stack is empty.\n",
    "        \"\"\"\n",
    "        if self.is_empty():\n",
    "            raise Empty(\"Stack is empty\")\n",
    "        return self._data.pop()  # remove last item from list\n",
    "\n",
    "\n",
    "class Empty(Exception):\n",
    "    \"\"\"Error attempting to access an element from an empty container.\"\"\"\n",
    "\n",
    "    pass\n",
    "\n",
    "\n",
    "S = ArrayStack()  # contents: []\n",
    "S.is_empty()  # contents: [];         outputs True\n",
    "S.push(5)  # contents: [5]\n",
    "S.push(3)  # contents: [5, 3]\n",
    "print(len(S))  # contents: [5, 3];     outputs 2\n",
    "print(S.pop())  # contents: [5];        outputs 3\n",
    "print(S.is_empty())  # contents: [5];        outputs False\n",
    "print(S.pop())  # contents: [];         outputs 5\n",
    "print(S.is_empty())  # contents: [];         outputs True\n",
    "S.push(7)  # contents: [7]\n",
    "S.push(9)  # contents: [7, 9]\n",
    "print(S.top())  # contents: [7, 9];     outputs 9\n",
    "S.push(4)  # contents: [7, 9, 4]\n",
    "print(len(S))  # contents: [7, 9, 4];  outputs 3\n",
    "print(S.pop())  # contents: [7, 9];     outputs 4\n",
    "S.push(6)  # contents: [7, 9, 6]"
   ]
  },
  {
   "cell_type": "code",
   "execution_count": 1,
   "metadata": {},
   "outputs": [],
   "source": [
    "html_lorem_ipsum = \"\"\"\n",
    "<!DOCTYPE html>\n",
    "<html lang=\"en\">\n",
    "<head>\n",
    "\t<meta charset=\"UTF-8\">\n",
    "\t<meta name=\"viewport\" content=\"width=device-width, initial-scale=1.0\">\n",
    "\t<title>Lorem Ipsum</title>\n",
    "</head>\n",
    "<body>\n",
    "\t<h1>Lorem Ipsum</h1>\n",
    "\t<p>Lorem ipsum dolor sit amet, consectetur adipiscing elit. \n",
    "    Sed do eiusmod tempor incididunt ut labore et dolore magna \n",
    "    aliqua. Ut enim ad minim veniam, quis nostrud exercitation\n",
    "    ullamco laboris nisi ut aliquip ex ea commodo consequat.</p>\n",
    "</body>\n",
    "</html>\n",
    "\"\"\""
   ]
  },
  {
   "cell_type": "code",
   "execution_count": 26,
   "metadata": {},
   "outputs": [
    {
     "name": "stdout",
     "output_type": "stream",
     "text": [
      "html_lorem_ipsum: <html><body><p>Lorem ipsum</p></body></html> is matched: True\n"
     ]
    }
   ],
   "source": [
    "class ArrayStack:\n",
    "    \"\"\"LIFO Stack implementation using a Python list as underlying storage.\"\"\"\n",
    "\n",
    "    def __init__(self):\n",
    "        \"\"\"Create an empty stack.\"\"\"\n",
    "        self._data = []\n",
    "\n",
    "    def is_empty(self):\n",
    "        \"\"\"Return True if the stack is empty.\"\"\"\n",
    "        return len(self._data) == 0\n",
    "\n",
    "    def push(self, e):\n",
    "        \"\"\"Add element e to the top of the stack.\"\"\"\n",
    "        self._data.append(e)\n",
    "\n",
    "    def pop(self):\n",
    "        \"\"\"Remove and return the element from the top of the stack (i.e., LIFO).\"\"\"\n",
    "        if self.is_empty():\n",
    "            raise Empty(\"Stack is empty\")\n",
    "        return self._data.pop()\n",
    "\n",
    "    def top(self):\n",
    "        \"\"\"Return (but do not remove) the element at the top of the stack.\"\"\"\n",
    "        if self.is_empty():\n",
    "            raise Empty(\"Stack is empty\")\n",
    "        return self._data[-1]\n",
    "\n",
    "\n",
    "def is_matched_html(raw):\n",
    "    \"\"\"Return True if all HTML tags are properly matched; False otherwise.\"\"\"\n",
    "    S = ArrayStack()\n",
    "    j = raw.find(\"<\")  # find first '<' character (if any)\n",
    "    while j != -1:\n",
    "        k = raw.find(\">\", j + 1)  # find next '>' character\n",
    "        if k == -1:\n",
    "            print(f\"Invalid tag at position {j}\")\n",
    "            return False  # invalid tag\n",
    "        tag = raw[j + 1 : k]  # strip away < >\n",
    "        if not tag.startswith(\"/\"):  # this is opening tag\n",
    "            S.push((tag, j))\n",
    "        else:  # this is closing tag\n",
    "            if S.is_empty():\n",
    "                print(f\"Unmatched closing tag </{tag[1:]} at position {j}\")\n",
    "                return False  # nothing to match with\n",
    "            top_tag, top_pos = S.pop()\n",
    "            if tag[1:] != top_tag:\n",
    "                print(f\"Mismatched tag at position {j}: expected </{top_tag}> but found </{tag[1:]}>\")\n",
    "                return False  # mismatched delimiter\n",
    "        j = raw.find(\"<\", k + 1)  # find next '<' character (if any)\n",
    "    if not S.is_empty():\n",
    "        top_tag, top_pos = S.pop()\n",
    "        print(f\"Unmatched opening tag <{top_tag}> at position {top_pos}\")\n",
    "        return False\n",
    "    return True\n",
    "\n",
    "\n",
    "# Example usage\n",
    "html_lorem_ipsum = \"<html><body><p>Lorem ipsum</p></body></html>\"\n",
    "print(f\"html_lorem_ipsum: {html_lorem_ipsum} is matched: {is_matched_html(html_lorem_ipsum)}\")"
   ]
  },
  {
   "cell_type": "code",
   "execution_count": 2,
   "metadata": {},
   "outputs": [],
   "source": [
    "class ArrayQueue:\n",
    "    \"\"\"FIFO queue implementation using a Python list as underlying storage.\"\"\"\n",
    "\n",
    "    DEFAULT_CAPACITY = 10  # moderate capacity for all new queues\n",
    "\n",
    "    def __init__(self):\n",
    "        \"\"\"Create an empty queue.\"\"\"\n",
    "        self._data = [None] * ArrayQueue.DEFAULT_CAPACITY\n",
    "        self._size = 0\n",
    "        self._front = 0\n",
    "\n",
    "    def __len__(self):\n",
    "        \"\"\"Return the number of elements in the queue.\"\"\"\n",
    "        return self._size\n",
    "\n",
    "    def is_empty(self):\n",
    "        \"\"\"Return True if the queue is empty.\"\"\"\n",
    "        return self._size == 0\n",
    "\n",
    "    def first(self):\n",
    "        \"\"\"Return (but do not remove) the element at the front of the queue.\n",
    "\n",
    "        Raise Empty exception if the queue is empty.\n",
    "        \"\"\"\n",
    "        if self.is_empty():\n",
    "            raise Empty(\"Queue is empty\")\n",
    "        return self._data[self._front]\n",
    "\n",
    "    def dequeue(self):\n",
    "        \"\"\"Remove and return the first element of the queue (i.e., FIFO).\n",
    "\n",
    "        Raise Empty exception if the queue is empty.\n",
    "        \"\"\"\n",
    "        if self.is_empty():\n",
    "            raise Empty(\"Queue is empty\")\n",
    "        answer = self._data[self._front]\n",
    "        self._data[self._front] = None  # help garbage collection\n",
    "        self._front = (self._front + 1) % len(self._data)\n",
    "        self._size -= 1\n",
    "        return answer\n",
    "\n",
    "    def enqueue(self, e):\n",
    "        \"\"\"Add an element to the back of queue.\"\"\"\n",
    "        if self._size == len(self._data):\n",
    "            self._resize(2 * len(self._data))  # double the array size\n",
    "        avail = (self._front + self._size) % len(self._data)\n",
    "        self._data[avail] = e\n",
    "        self._size += 1\n",
    "\n",
    "    def _resize(self, cap):  # we assume cap >= len(self)\n",
    "        \"\"\"Resize to a new list of capacity >= len(self).\"\"\"\n",
    "        old = self._data  # keep track of existing list\n",
    "        self._data = [None] * cap  # allocate list with new capacity\n",
    "        walk = self._front\n",
    "        for k in range(self._size):  # only consider existing elements\n",
    "            self._data[k] = old[walk]  # intentionally shift indices\n",
    "            walk = (1 + walk) % len(old)  # use old size as modulus\n",
    "        self._front = 0  # front has been realigned"
   ]
  }
 ],
 "metadata": {
  "kernelspec": {
   "display_name": "Python 3",
   "language": "python",
   "name": "python3"
  },
  "language_info": {
   "codemirror_mode": {
    "name": "ipython",
    "version": 3
   },
   "file_extension": ".py",
   "mimetype": "text/x-python",
   "name": "python",
   "nbconvert_exporter": "python",
   "pygments_lexer": "ipython3",
   "version": "3.11.9"
  }
 },
 "nbformat": 4,
 "nbformat_minor": 2
}
