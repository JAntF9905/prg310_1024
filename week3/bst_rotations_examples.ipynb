{
 "cells": [
  {
   "cell_type": "code",
   "execution_count": 2,
   "id": "2f8d9d57",
   "metadata": {},
   "outputs": [],
   "source": [
    "class Node:\n",
    "    def __init__(self, key):\n",
    "        self.key = key\n",
    "        self.left = None\n",
    "        self.right = None"
   ]
  },
  {
   "cell_type": "markdown",
   "id": "40234d67",
   "metadata": {},
   "source": [
    "# Example 1: Right Rotation"
   ]
  },
  {
   "cell_type": "code",
   "execution_count": 3,
   "id": "07a9d0f4",
   "metadata": {},
   "outputs": [
    {
     "name": "stdout",
     "output_type": "stream",
     "text": [
      "Root after right rotation: 20\n"
     ]
    }
   ],
   "source": [
    "def right_rotate(y):\n",
    "    x = y.left\n",
    "    y.left = x.right\n",
    "    x.right = y\n",
    "    return x\n",
    "\n",
    "\n",
    "# Construct the tree\n",
    "root = Node(30)\n",
    "root.left = Node(20)\n",
    "root.left.left = Node(10)\n",
    "\n",
    "# Perform right rotation on root\n",
    "root = right_rotate(root)\n",
    "\n",
    "print(\"Root after right rotation:\", root.key)  # Output should be 20"
   ]
  },
  {
   "cell_type": "markdown",
   "id": "e2a51ac6",
   "metadata": {},
   "source": [
    "# Example 2: Left Rotation"
   ]
  },
  {
   "cell_type": "code",
   "execution_count": null,
   "id": "0c57e712",
   "metadata": {},
   "outputs": [],
   "source": [
    "def left_rotate(x):\n",
    "    y = x.right\n",
    "    x.right = y.left\n",
    "    y.left = x\n",
    "    return y\n",
    "\n",
    "\n",
    "# Construct the tree\n",
    "root = Node(10)\n",
    "root.right = Node(20)\n",
    "root.right.right = Node(30)\n",
    "\n",
    "# Perform left rotation on root\n",
    "root = left_rotate(root)\n",
    "\n",
    "print(\"Root after left rotation:\", root.key)  # Output should be 20"
   ]
  },
  {
   "cell_type": "markdown",
   "id": "073532de",
   "metadata": {},
   "source": [
    "# Example 3: Left-Right Rotation"
   ]
  },
  {
   "cell_type": "code",
   "execution_count": null,
   "id": "75f22f23",
   "metadata": {},
   "outputs": [],
   "source": [
    "def left_right_rotate(root):\n",
    "    root.left = left_rotate(root.left)\n",
    "    return right_rotate(root)\n",
    "\n",
    "\n",
    "# Construct the tree\n",
    "root = Node(30)\n",
    "root.left = Node(10)\n",
    "root.left.right = Node(20)\n",
    "\n",
    "# Perform left-right rotation on root\n",
    "root = left_right_rotate(root)\n",
    "\n",
    "print(\"Root after left-right rotation:\", root.key)  # Output should be 20"
   ]
  },
  {
   "cell_type": "markdown",
   "id": "8445fff0",
   "metadata": {},
   "source": [
    "# Example 4: Right-Left Rotation"
   ]
  },
  {
   "cell_type": "code",
   "execution_count": null,
   "id": "71ae732e",
   "metadata": {},
   "outputs": [],
   "source": [
    "def right_left_rotate(root):\n",
    "    root.right = right_rotate(root.right)\n",
    "    return left_rotate(root)\n",
    "\n",
    "\n",
    "# Construct the tree\n",
    "root = Node(10)\n",
    "root.right = Node(30)\n",
    "root.right.left = Node(20)\n",
    "\n",
    "# Perform right-left rotation on root\n",
    "root = right_left_rotate(root)\n",
    "\n",
    "print(\"Root after right-left rotation:\", root.key)  # Output should be 20"
   ]
  }
 ],
 "metadata": {
  "kernelspec": {
   "display_name": "Python 3",
   "language": "python",
   "name": "python3"
  },
  "language_info": {
   "codemirror_mode": {
    "name": "ipython",
    "version": 3
   },
   "file_extension": ".py",
   "mimetype": "text/x-python",
   "name": "python",
   "nbconvert_exporter": "python",
   "pygments_lexer": "ipython3",
   "version": "3.11.9"
  }
 },
 "nbformat": 4,
 "nbformat_minor": 5
}
