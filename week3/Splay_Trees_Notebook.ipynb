{
 "cells": [
  {
   "cell_type": "markdown",
   "id": "a3a2b2dd",
   "metadata": {},
   "source": [
    "# Splay Trees in Python"
   ]
  },
  {
   "cell_type": "markdown",
   "id": "059f2d3a",
   "metadata": {},
   "source": [
    "In this notebook, we will learn about **Splay Trees**, a type of self-adjusting binary search tree where recently accessed elements are moved closer to the root. Splay Trees provide a unique way to optimize the access times for frequently accessed nodes."
   ]
  },
  {
   "cell_type": "markdown",
   "id": "d1a2d50d",
   "metadata": {},
   "source": [
    "## What is a Splay Tree?\n",
    "A **Splay Tree** is a self-balancing binary search tree that performs an operation called 'splaying' on nodes. This operation moves a recently accessed node to the root of the tree, making it faster to access nodes that were recently accessed.\n",
    "\n",
    "**Key Points:**\n",
    "- Splay Trees improve performance for frequently accessed nodes by moving them closer to the root.\n",
    "- The splaying operation reorders the tree, so no extra balancing information (like in AVL or Red-Black trees) is required.\n",
    "- Common operations (insert, delete, search) have amortized O(log n) time complexity."
   ]
  },
  {
   "cell_type": "markdown",
   "id": "ca7c9892",
   "metadata": {},
   "source": [
    "## Basic Operations in Splay Tree\n",
    "1. **Search**: Find a node in the tree and splay it to the root.\n",
    "2. **Insert**: Insert a new node and splay it to the root.\n",
    "3. **Delete**: Splay the node to be deleted to the root, then adjust the tree to remove the node."
   ]
  },
  {
   "cell_type": "markdown",
   "id": "98409372",
   "metadata": {},
   "source": [
    "### Implementation of Splay Tree\n",
    "Let's implement the basic structure of a Splay Tree in Python. We'll define a `Node` class to represent each node, and a `SplayTree` class to implement the splay operations."
   ]
  },
  {
   "cell_type": "code",
   "execution_count": 1,
   "id": "ab42e290",
   "metadata": {},
   "outputs": [],
   "source": [
    "class Node:\n",
    "    def __init__(self, key):\n",
    "        self.key = key\n",
    "        self.left = None\n",
    "        self.right = None\n",
    "\n",
    "\n",
    "class SplayTree:\n",
    "    def __init__(self):\n",
    "        self.root = None\n",
    "\n",
    "    # Right rotation\n",
    "    def _right_rotate(self, x):\n",
    "        y = x.left\n",
    "        x.left = y.right\n",
    "        y.right = x\n",
    "        return y\n",
    "\n",
    "    # Left rotation\n",
    "    def _left_rotate(self, x):\n",
    "        y = x.right\n",
    "        x.right = y.left\n",
    "        y.left = x\n",
    "        return y\n",
    "\n",
    "    # Splay operation\n",
    "    def _splay(self, root, key):\n",
    "        if root is None or root.key == key:\n",
    "            return root\n",
    "\n",
    "        # Key lies in left subtree\n",
    "        if key < root.key:\n",
    "            if root.left is None:\n",
    "                return root\n",
    "            if key < root.left.key:\n",
    "                root.left.left = self._splay(root.left.left, key)\n",
    "                root = self._right_rotate(root)\n",
    "            elif key > root.left.key:\n",
    "                root.left.right = self._splay(root.left.right, key)\n",
    "                if root.left.right:\n",
    "                    root.left = self._left_rotate(root.left)\n",
    "            return self._right_rotate(root) if root.left else root\n",
    "\n",
    "        # Key lies in right subtree\n",
    "        else:\n",
    "            if root.right is None:\n",
    "                return root\n",
    "            if key > root.right.key:\n",
    "                root.right.right = self._splay(root.right.right, key)\n",
    "                root = self._left_rotate(root)\n",
    "            elif key < root.right.key:\n",
    "                root.right.left = self._splay(root.right.left, key)\n",
    "                if root.right.left:\n",
    "                    root.right = self._right_rotate(root.right)\n",
    "            return self._left_rotate(root) if root.right else root\n",
    "\n",
    "    # Search for a key\n",
    "    def search(self, key):\n",
    "        self.root = self._splay(self.root, key)\n",
    "        return self.root if self.root and self.root.key == key else None\n",
    "\n",
    "    # Insert a new key\n",
    "    def insert(self, key):\n",
    "        if self.root is None:\n",
    "            self.root = Node(key)\n",
    "            return\n",
    "        self.root = self._splay(self.root, key)\n",
    "        if self.root.key == key:\n",
    "            return  # Key already exists\n",
    "        new_node = Node(key)\n",
    "        if key < self.root.key:\n",
    "            new_node.right = self.root\n",
    "            new_node.left = self.root.left\n",
    "            self.root.left = None\n",
    "        else:\n",
    "            new_node.left = self.root\n",
    "            new_node.right = self.root.right\n",
    "            self.root.right = None\n",
    "        self.root = new_node\n",
    "\n",
    "    # Delete a key\n",
    "    def delete(self, key):\n",
    "        if self.root is None:\n",
    "            return\n",
    "        self.root = self._splay(self.root, key)\n",
    "        if self.root.key != key:\n",
    "            return  # Key not found\n",
    "        if not self.root.left:\n",
    "            self.root = self.root.right\n",
    "        elif not self.root.right:\n",
    "            self.root = self.root.left\n",
    "        else:\n",
    "            left_subtree = self.root.left\n",
    "            self.root = self.root.right\n",
    "            self._splay(self.root, key)\n",
    "            self.root.left = left_subtree"
   ]
  },
  {
   "cell_type": "markdown",
   "id": "80e64787",
   "metadata": {},
   "source": [
    "### Example Usage\n",
    "Now, let's see how we can use the Splay Tree to perform some basic operations like insert, search, and delete."
   ]
  },
  {
   "cell_type": "code",
   "execution_count": 2,
   "id": "fba46676",
   "metadata": {},
   "outputs": [
    {
     "name": "stdout",
     "output_type": "stream",
     "text": [
      "Searching for 15:\n",
      "Found: 15\n",
      "Deleting 10:\n",
      "Searching for 10 after deletion:\n",
      "Found: Not found\n"
     ]
    }
   ],
   "source": [
    "# Example usage of the SplayTree\n",
    "splay_tree = SplayTree()\n",
    "# Insert elements\n",
    "splay_tree.insert(10)\n",
    "splay_tree.insert(20)\n",
    "splay_tree.insert(5)\n",
    "splay_tree.insert(15)\n",
    "\n",
    "# Search for an element (this will splay the element to the root if found)\n",
    "print(\"Searching for 15:\")\n",
    "result = splay_tree.search(15)\n",
    "print(\"Found:\", result.key if result else \"Not found\")\n",
    "\n",
    "# Delete an element\n",
    "print(\"Deleting 10:\")\n",
    "splay_tree.delete(10)\n",
    "\n",
    "# Attempt to search for the deleted element\n",
    "print(\"Searching for 10 after deletion:\")\n",
    "result = splay_tree.search(10)\n",
    "print(\"Found:\", result.key if result else \"Not found\")"
   ]
  },
  {
   "cell_type": "markdown",
   "id": "9ad6a3af",
   "metadata": {},
   "source": [
    "## Summary\n",
    "In this notebook, we've implemented a basic Splay Tree and explored its fundamental operations:\n",
    "- **Search**: Find and splay the node to the root.\n",
    "- **Insert**: Add a node and splay it to the root.\n",
    "- **Delete**: Splay the node to be deleted to the root and adjust the tree.\n",
    "\n",
    "Splay Trees are efficient in scenarios where certain elements are accessed more frequently, as they bring recently accessed elements closer to the root."
   ]
  }
 ],
 "metadata": {
  "kernelspec": {
   "display_name": "Python 3",
   "language": "python",
   "name": "python3"
  },
  "language_info": {
   "codemirror_mode": {
    "name": "ipython",
    "version": 3
   },
   "file_extension": ".py",
   "mimetype": "text/x-python",
   "name": "python",
   "nbconvert_exporter": "python",
   "pygments_lexer": "ipython3",
   "version": "3.11.9"
  }
 },
 "nbformat": 4,
 "nbformat_minor": 5
}
