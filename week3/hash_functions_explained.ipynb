{
 "cells": [
  {
   "cell_type": "markdown",
   "id": "082cd740",
   "metadata": {},
   "source": [
    "# Understanding Hash Functions"
   ]
  },
  {
   "cell_type": "markdown",
   "id": "6adf6935",
   "metadata": {},
   "source": [
    "\n",
    "A **hash function** is a function that takes an input (or 'key') and returns a fixed-size string of bytes. \n",
    "The output, often called the **hash value** or **hash code**, is typically a unique identifier for the input. \n",
    "Hash functions are fundamental in computer science and are used in various applications, such as data retrieval, \n",
    "cryptography, and hash tables.\n",
    "\n",
    "## Properties of a Good Hash Function\n",
    "1. **Deterministic**: A given input always maps to the same hash value.\n",
    "2. **Efficient**: The function should compute the hash quickly.\n",
    "3. **Uniformity**: The hash values should be uniformly distributed across the output space.\n",
    "4. **Minimizes Collisions**: Different inputs should ideally produce different hash values (although this is not always possible).\n",
    "\n",
    "In this notebook, we'll explore hash functions with examples in Python.\n"
   ]
  },
  {
   "cell_type": "markdown",
   "id": "62d46859",
   "metadata": {},
   "source": [
    "## Example 1: Simple Hash Function for Integers"
   ]
  },
  {
   "cell_type": "code",
   "execution_count": null,
   "id": "eca9b4df",
   "metadata": {},
   "outputs": [],
   "source": [
    "\n",
    "def simple_hash(key, table_size):\n",
    "    # Simple modulus-based hash function\n",
    "    return key % table_size\n",
    "\n",
    "# Example usage\n",
    "table_size = 10  # Hash table of size 10\n",
    "keys = [23, 44, 56, 78, 91]\n",
    "\n",
    "hash_values = [(key, simple_hash(key, table_size)) for key in keys]\n",
    "hash_values\n"
   ]
  },
  {
   "cell_type": "markdown",
   "id": "6cf5223f",
   "metadata": {},
   "source": [
    "\n",
    "In this example, we used a simple modulus-based hash function for integers.\n",
    "Each key is divided by the table size, and the remainder is used as the hash value. \n",
    "This is a basic but commonly used hash function for integer keys.\n",
    "\n",
    "### Example Output\n",
    "The output will show each key and its corresponding hash value, helping us visualize how the keys map into a smaller range.\n"
   ]
  },
  {
   "cell_type": "markdown",
   "id": "00128ca6",
   "metadata": {},
   "source": [
    "## Example 2: Hashing Strings"
   ]
  },
  {
   "cell_type": "code",
   "execution_count": 2,
   "id": "05a58cf7",
   "metadata": {},
   "outputs": [
    {
     "data": {
      "text/plain": [
       "[('apple', 0), ('banana', 9), ('grape', 7), ('orange', 6), ('pear', 4)]"
      ]
     },
     "execution_count": 2,
     "metadata": {},
     "output_type": "execute_result"
    }
   ],
   "source": [
    "\n",
    "def string_hash(key, table_size):\n",
    "    # Basic hash function for strings using ASCII values\n",
    "    hash_value = 0\n",
    "    for char in key:\n",
    "        hash_value += ord(char)  # Sum of ASCII values\n",
    "    return hash_value % table_size\n",
    "\n",
    "# Example usage\n",
    "table_size = 10  # Hash table of size 10\n",
    "keys = [\"apple\", \"banana\", \"grape\", \"orange\", \"pear\"]\n",
    "\n",
    "hash_values = [(key, string_hash(key, table_size)) for key in keys]\n",
    "hash_values\n"
   ]
  },
  {
   "cell_type": "markdown",
   "id": "a0c78bb2",
   "metadata": {},
   "source": [
    "\n",
    "In this example, we created a simple hash function for strings by summing the ASCII values of each character in the string. \n",
    "The result is then taken modulo the table size to fit within the hash table. \n",
    "This approach can work but often leads to clustering, as similar strings may produce similar hash values.\n",
    "\n",
    "### Example Output\n",
    "This will show each string and its hash value, demonstrating how the strings map to hash values in the table.\n"
   ]
  },
  {
   "cell_type": "markdown",
   "id": "7df75e8a",
   "metadata": {},
   "source": [
    "## Example 3: Built-in Hash Function in Python"
   ]
  },
  {
   "cell_type": "code",
   "execution_count": 3,
   "id": "874b10a8",
   "metadata": {},
   "outputs": [
    {
     "data": {
      "text/plain": [
       "[(23, 3), ('apple', 3), ((5, 'banana'), 1), (44.5, 0)]"
      ]
     },
     "execution_count": 3,
     "metadata": {},
     "output_type": "execute_result"
    }
   ],
   "source": [
    "\n",
    "# Python's built-in hash function can hash various data types, including integers, strings, and tuples\n",
    "keys = [23, \"apple\", (5, \"banana\"), 44.5]\n",
    "\n",
    "# Get hash values using Python's built-in hash function and fit them into a hash table of size 10\n",
    "table_size = 10\n",
    "hash_values = [(key, hash(key) % table_size) for key in keys]\n",
    "hash_values\n"
   ]
  },
  {
   "cell_type": "markdown",
   "id": "bf3a8711",
   "metadata": {},
   "source": [
    "\n",
    "Python's built-in `hash` function provides a more robust and complex hashing mechanism that is suitable for many data types.\n",
    "The function applies an efficient algorithm that provides better distribution and fewer collisions than simpler custom functions.\n",
    "\n",
    "### Example Output\n",
    "This will display the hash values generated by Python's built-in `hash` function, showing that it can handle various data types.\n"
   ]
  },
  {
   "cell_type": "markdown",
   "id": "24b7d8e6",
   "metadata": {},
   "source": [
    "## Applications of Hash Functions"
   ]
  },
  {
   "cell_type": "markdown",
   "id": "deb54992",
   "metadata": {},
   "source": [
    "\n",
    "Hash functions are widely used across various applications:\n",
    "- **Hash Tables**: Data structures that allow quick data retrieval using keys.\n",
    "- **Data Integrity**: Hash functions verify data integrity by checking that the hash of a data block remains unchanged.\n",
    "- **Cryptography**: Hash functions are essential in cryptographic algorithms, creating unique identifiers for data.\n",
    "- **Checksum Calculations**: Used in checksums to detect errors in data transmission.\n",
    "\n",
    "Good hash functions improve performance in applications by minimizing collisions and distributing data uniformly.\n"
   ]
  }
 ],
 "metadata": {
  "kernelspec": {
   "display_name": "Python 3",
   "language": "python",
   "name": "python3"
  },
  "language_info": {
   "codemirror_mode": {
    "name": "ipython",
    "version": 3
   },
   "file_extension": ".py",
   "mimetype": "text/x-python",
   "name": "python",
   "nbconvert_exporter": "python",
   "pygments_lexer": "ipython3",
   "version": "3.11.9"
  }
 },
 "nbformat": 4,
 "nbformat_minor": 5
}
