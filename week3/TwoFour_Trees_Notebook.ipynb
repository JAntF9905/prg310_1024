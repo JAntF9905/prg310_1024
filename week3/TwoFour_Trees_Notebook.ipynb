{
 "cells": [
  {
   "cell_type": "markdown",
   "id": "f02a4706",
   "metadata": {},
   "source": [
    "# (2,4) Trees in Python"
   ]
  },
  {
   "cell_type": "markdown",
   "id": "45ba74c7",
   "metadata": {},
   "source": [
    "In this notebook, we will explore **(2,4) Trees**, a type of balanced tree commonly used in computer science. (2,4) Trees are a specific form of B-trees where each node can have 2 to 4 children, ensuring efficient search, insertion, and deletion operations with logarithmic height."
   ]
  },
  {
   "cell_type": "markdown",
   "id": "1ef7f0f7",
   "metadata": {},
   "source": [
    "## What is a (2,4) Tree?\n",
    "A **(2,4) Tree** is a self-balancing search tree in which each node can have between 2 and 4 children.\n",
    "\n",
    "**Properties of (2,4) Trees:**\n",
    "- All leaves are at the same depth (balanced tree).\n",
    "- Internal nodes can contain 1, 2, or 3 keys.\n",
    "- Internal nodes can have 2, 3, or 4 children.\n",
    "\n",
    "This structure ensures the height of the tree remains logarithmic relative to the number of elements."
   ]
  },
  {
   "cell_type": "markdown",
   "id": "ad13897f",
   "metadata": {},
   "source": [
    "## Basic Operations in (2,4) Tree\n",
    "1. **Search**: Traverse down from the root to find a key.\n",
    "2. **Insert**: Add a new key, splitting nodes as needed.\n",
    "3. **Delete**: Remove a key, rebalancing nodes as necessary to maintain the structure."
   ]
  },
  {
   "cell_type": "markdown",
   "id": "c0fb3cb0",
   "metadata": {},
   "source": [
    "### Implementation of (2,4) Tree\n",
    "The following code provides a basic structure for implementing a (2,4) Tree in Python. It includes a `Node` class for each node, and a `(2,4)Tree` class for insertion, splitting, and searching operations."
   ]
  },
  {
   "cell_type": "code",
   "execution_count": 1,
   "id": "6ee47060",
   "metadata": {},
   "outputs": [],
   "source": [
    "class Node:\n",
    "    def __init__(self):\n",
    "        self.keys = []  # Keys in the node\n",
    "        self.children = []  # Children nodes\n",
    "\n",
    "    def is_leaf(self):\n",
    "        return len(self.children) == 0\n",
    "\n",
    "    def is_full(self):\n",
    "        return len(self.keys) == 3\n",
    "\n",
    "\n",
    "class TwoFourTree:\n",
    "    def __init__(self):\n",
    "        self.root = Node()\n",
    "\n",
    "    def _split(self, node):\n",
    "        \"\"\"Splits a full node (3 keys) into two nodes, pushing the middle key up\"\"\"\n",
    "        mid_key = node.keys[1]\n",
    "        left_child = Node()\n",
    "        right_child = Node()\n",
    "\n",
    "        # Assign keys and children\n",
    "        left_child.keys = [node.keys[0]]\n",
    "        right_child.keys = [node.keys[2]]\n",
    "\n",
    "        if not node.is_leaf():\n",
    "            left_child.children = node.children[:2]\n",
    "            right_child.children = node.children[2:]\n",
    "\n",
    "        return mid_key, left_child, right_child\n",
    "\n",
    "    def insert(self, key):\n",
    "        \"\"\"Insert a new key into the (2,4) Tree\"\"\"\n",
    "        root = self.root\n",
    "        if root.is_full():  # Root is full, needs splitting\n",
    "            mid_key, left_child, right_child = self._split(root)\n",
    "            new_root = Node()\n",
    "            new_root.keys = [mid_key]\n",
    "            new_root.children = [left_child, right_child]\n",
    "            self.root = new_root\n",
    "\n",
    "        self._insert_non_full(self.root, key)\n",
    "\n",
    "    def _insert_non_full(self, node, key):\n",
    "        \"\"\"Helper function to insert a key in a non-full node\"\"\"\n",
    "        if node.is_leaf():\n",
    "            node.keys.append(key)\n",
    "            node.keys.sort()\n",
    "        else:\n",
    "            # Find the correct child to descend\n",
    "            i = 0\n",
    "            while i < len(node.keys) and key > node.keys[i]:\n",
    "                i += 1\n",
    "            if node.children[i].is_full():  # Split child if full\n",
    "                mid_key, left_child, right_child = self._split(node.children[i])\n",
    "                node.keys.insert(i, mid_key)\n",
    "                node.children[i] = left_child\n",
    "                node.children.insert(i + 1, right_child)\n",
    "                # Determine the right position for insertion\n",
    "                if key > mid_key:\n",
    "                    i += 1\n",
    "            self._insert_non_full(node.children[i], key)\n",
    "\n",
    "    def search(self, node, key):\n",
    "        \"\"\"Search for a key in the (2,4) Tree\"\"\"\n",
    "        i = 0\n",
    "        while i < len(node.keys) and key > node.keys[i]:\n",
    "            i += 1\n",
    "        if i < len(node.keys) and key == node.keys[i]:\n",
    "            return node  # Key found\n",
    "        elif node.is_leaf():\n",
    "            return None  # Key not found in leaf\n",
    "        else:\n",
    "            return self.search(node.children[i], key)"
   ]
  },
  {
   "cell_type": "markdown",
   "id": "3a90783b",
   "metadata": {},
   "source": [
    "### Example Usage\n",
    "Let's use the (2,4) Tree to insert keys and search for a specific key."
   ]
  },
  {
   "cell_type": "code",
   "execution_count": 2,
   "id": "041939de",
   "metadata": {},
   "outputs": [
    {
     "name": "stdout",
     "output_type": "stream",
     "text": [
      "Inserted 10\n",
      "Inserted 20\n",
      "Inserted 5\n",
      "Inserted 15\n",
      "Inserted 25\n",
      "Inserted 30\n",
      "Inserted 35\n",
      "Key 15 found in the tree.\n"
     ]
    }
   ],
   "source": [
    "# Example usage of the (2,4) Tree\n",
    "two_four_tree = TwoFourTree()\n",
    "\n",
    "# Insert elements\n",
    "keys_to_insert = [10, 20, 5, 15, 25, 30, 35]\n",
    "for key in keys_to_insert:\n",
    "    two_four_tree.insert(key)\n",
    "    print(f\"Inserted {key}\")\n",
    "\n",
    "# Search for an element\n",
    "key_to_search = 15\n",
    "found_node = two_four_tree.search(two_four_tree.root, key_to_search)\n",
    "print(f\"Key {key_to_search} {'found' if found_node else 'not found'} in the tree.\")"
   ]
  },
  {
   "cell_type": "markdown",
   "id": "5e7fb15d",
   "metadata": {},
   "source": [
    "## Summary\n",
    "In this notebook, we've implemented a basic (2,4) Tree and explored its key operations:\n",
    "- **Insert**: Add a key, splitting nodes as necessary.\n",
    "- **Search**: Traverse the tree to find a key.\n",
    "\n",
    "(2,4) Trees provide balanced performance and are useful in databases and file systems where data balance is essential."
   ]
  }
 ],
 "metadata": {
  "kernelspec": {
   "display_name": "Python 3",
   "language": "python",
   "name": "python3"
  },
  "language_info": {
   "codemirror_mode": {
    "name": "ipython",
    "version": 3
   },
   "file_extension": ".py",
   "mimetype": "text/x-python",
   "name": "python",
   "nbconvert_exporter": "python",
   "pygments_lexer": "ipython3",
   "version": "3.11.9"
  }
 },
 "nbformat": 4,
 "nbformat_minor": 5
}
