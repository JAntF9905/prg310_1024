{
 "cells": [
  {
   "cell_type": "markdown",
   "id": "eb81fbd9",
   "metadata": {},
   "source": [
    "# Sets, Multisets, and Multimaps in Python"
   ]
  },
  {
   "cell_type": "markdown",
   "id": "23891382",
   "metadata": {},
   "source": [
    "In this notebook, we'll explore Sets, Multisets, and Multimaps in Python. These structures are useful for managing unique collections of items and mapping keys to multiple values. Let's get started!"
   ]
  },
  {
   "cell_type": "markdown",
   "id": "cdc5d98f",
   "metadata": {},
   "source": [
    "## Sets\n",
    "A **set** is an unordered collection of unique items. It’s useful when you need to store distinct elements and do not care about their order. Sets do not allow duplicates.\n",
    "### Example:"
   ]
  },
  {
   "cell_type": "code",
   "execution_count": null,
   "id": "c7276a53",
   "metadata": {},
   "outputs": [],
   "source": [
    "# Example of a set\n",
    "fruits = {\"apple\", \"banana\", \"orange\"}\n",
    "fruits.add(\"banana\")  # Attempting to add a duplicate item\n",
    "print(\"Set contents:\", fruits)  # 'banana' will not be duplicated"
   ]
  },
  {
   "cell_type": "markdown",
   "id": "8074d6f6",
   "metadata": {},
   "source": [
    "## Multisets\n",
    "A **multiset** (also known as a 'bag') is like a set but allows multiple occurrences of the same element. In Python, you can use `collections.Counter` to create a multiset.\n",
    "### Example:"
   ]
  },
  {
   "cell_type": "code",
   "execution_count": null,
   "id": "ebe8f7f8",
   "metadata": {},
   "outputs": [],
   "source": [
    "from collections import Counter\n",
    "\n",
    "\n",
    "# Example of a multiset using Counter\n",
    "multiset = Counter([\"apple\", \"banana\", \"apple\", \"orange\", \"banana\"])\n",
    "print(\"Multiset contents:\", multiset)  # Shows the count of each item"
   ]
  },
  {
   "cell_type": "markdown",
   "id": "3394e400",
   "metadata": {},
   "source": [
    "## Multimaps\n",
    "A **multimap** is a type of dictionary where multiple values can be associated with a single key. In Python, `collections.defaultdict` can be used to create a multimap by allowing each key to hold a list of values.\n",
    "### Example:"
   ]
  },
  {
   "cell_type": "code",
   "execution_count": null,
   "id": "1023347e",
   "metadata": {},
   "outputs": [],
   "source": [
    "from collections import defaultdict\n",
    "\n",
    "\n",
    "# Example of a multimap using defaultdict\n",
    "multimap = defaultdict(list)\n",
    "multimap[\"a\"].append(1)\n",
    "multimap[\"a\"].append(2)\n",
    "multimap[\"b\"].append(3)\n",
    "print(\"Multimap contents:\", dict(multimap))  # Each key holds a list of values"
   ]
  },
  {
   "cell_type": "markdown",
   "id": "ae01d983",
   "metadata": {},
   "source": [
    "## Summary\n",
    "In this notebook, we've looked at:\n",
    "- **Sets**: Unique, unordered collections.\n",
    "- **Multisets**: Sets that allow duplicate elements using `Counter`.\n",
    "- **Multimaps**: Dictionaries with keys that map to multiple values using `defaultdict`.\n",
    "\n",
    "These structures are powerful tools for managing collections of data in Python!"
   ]
  },
  {
   "cell_type": "code",
   "execution_count": 3,
   "id": "7522c5d5",
   "metadata": {},
   "outputs": [
    {
     "name": "stdout",
     "output_type": "stream",
     "text": [
      "Multimap contents: {'a': 2, 'b': 3}\n",
      "Union of S and T: {'G', 'E', 'I', 'A', 'C', 'K', 'H', 'F', 'L', 'D', 'B', 'J', 'M'}\n",
      "Intersection of S and T: {'B', 'C', 'D'}\n",
      "Difference of S and T: {'G', 'E', 'A', 'H', 'F'}\n",
      "Symmetric difference of S and T: {'G', 'E', 'I', 'M', 'A', 'H', 'F', 'L', 'J', 'K'}\n"
     ]
    }
   ],
   "source": [
    "class MultiMap:\n",
    "    \"\"\"A multimap class built upon use of an underlying map for storage.\"\"\"\n",
    "\n",
    "    _MapType = dict  # Map type; can be redefined by subclass\n",
    "\n",
    "    def __init__(self):\n",
    "        \"\"\"Create a new empty multimap instance.\"\"\"\n",
    "        self._map = self._MapType()  # create map instance for storage\n",
    "        self._n = 0\n",
    "\n",
    "    def __iter__(self):\n",
    "        \"\"\"Iterate through all (k,v) pairs in multimap.\"\"\"\n",
    "        for k, secondary in self._map.items():\n",
    "            for v in secondary:\n",
    "                yield (k, v)\n",
    "\n",
    "    def add(self, k, v):\n",
    "        \"\"\"Add pair (k,v) to multimap.\"\"\"\n",
    "        container = self._map.setdefault(k, [])  # create empty list, if needed\n",
    "        container.append(v)\n",
    "        self._n += 1\n",
    "\n",
    "    def pop(self, k):\n",
    "        \"\"\"Remove and return arbitrary (k,v) with key k (or raise KeyError).\"\"\"\n",
    "        secondary = self._map[k]  # may raise KeyError\n",
    "        v = secondary.pop()\n",
    "        if len(secondary) == 0:\n",
    "            del self._map[k]  # no pairs left\n",
    "        self._n -= 1\n",
    "        return (k, v)\n",
    "\n",
    "    def find(self, k):\n",
    "        \"\"\"Return arbitrary (k,v) pair with given key (or raise KeyError).\"\"\"\n",
    "        secondary = self._map[k]  # may raise KeyError\n",
    "        return (k, secondary[0])\n",
    "\n",
    "    def find_all(self, k):\n",
    "        \"\"\"Generate iteration of all (k,v) pairs with given key.\"\"\"\n",
    "        secondary = self._map.get(k, [])  # empty list, by default\n",
    "        for v in secondary:\n",
    "            yield (k, v)\n",
    "\n",
    "\n",
    "if __name__ == \"__main__\":\n",
    "    mm = MultiMap()\n",
    "    mm.add(\"a\", 1)\n",
    "    mm.add(\"a\", 2)\n",
    "    mm.add(\"b\", 3)\n",
    "    print(\"Multimap contents:\", dict(mm))  # Each key holds a list of values\n",
    "    S = set(\"ABCDEFGH\")\n",
    "    T = set(\"BCDIJKLM\")\n",
    "\n",
    "    # Create a new set M that represents the union of sets S and T\n",
    "    M = S | T\n",
    "    print(\"Union of S and T:\", M)\n",
    "\n",
    "    # Create a new set N that represents the intersection of sets S and T\n",
    "    N = S & T\n",
    "    print(\"Intersection of S and T:\", N)\n",
    "\n",
    "    # Create a new set O that represents the difference of sets S and T\n",
    "    O = S - T\n",
    "    print(\"Difference of S and T:\", O)\n",
    "\n",
    "    # Create a new set O that represents the symmetric difference of sets S and T\n",
    "    P = S ^ T\n",
    "    print(\"Symmetric difference of S and T:\", P)"
   ]
  }
 ],
 "metadata": {
  "kernelspec": {
   "display_name": "Python 3",
   "language": "python",
   "name": "python3"
  },
  "language_info": {
   "codemirror_mode": {
    "name": "ipython",
    "version": 3
   },
   "file_extension": ".py",
   "mimetype": "text/x-python",
   "name": "python",
   "nbconvert_exporter": "python",
   "pygments_lexer": "ipython3",
   "version": "3.11.9"
  }
 },
 "nbformat": 4,
 "nbformat_minor": 5
}
