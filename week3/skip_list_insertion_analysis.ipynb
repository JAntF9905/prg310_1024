{
 "cells": [
  {
   "cell_type": "markdown",
   "id": "0603b212",
   "metadata": {},
   "source": [
    "# Analysis of Skip List Insertion Time Complexity"
   ]
  },
  {
   "cell_type": "markdown",
   "id": "0161b79b",
   "metadata": {},
   "source": [
    "\n",
    "A **skip list** is a data structure that allows for fast search, insertion, and deletion operations with an expected logarithmic time complexity.\n",
    "It's based on multiple levels of linked lists that represent subsets of the main list. Each level skips over a certain number of elements, \n",
    "allowing the search algorithm to 'jump' ahead, effectively reducing the time complexity compared to a regular linked list.\n",
    "\n",
    "In this notebook, we will analyze the expected running time of the insertion operation on a skip list with **n** entries.\n"
   ]
  },
  {
   "cell_type": "markdown",
   "id": "392d52a5",
   "metadata": {},
   "source": [
    "## Expected Running Time of Skip List Insertion"
   ]
  },
  {
   "cell_type": "markdown",
   "id": "d5e2d787",
   "metadata": {},
   "source": [
    "\n",
    "In a skip list with \\( n \\) entries, the insertion algorithm has an expected time complexity of **O(log n)**.\n",
    "\n",
    "### Explanation\n",
    "\n",
    "1. **Levels in Skip List**:\n",
    "   - Each entry is promoted to a higher level with a probability of \\( p \\). Typically, \\( p = 1/2 \\) or \\( p = 1/4 \\).\n",
    "   - The expected number of levels, or height of the skip list, is **O(log n)** because each level approximately halves the number of nodes.\n",
    "\n",
    "2. **Insertion Process**:\n",
    "   - When inserting a new element, the algorithm first searches for the position in each level, starting from the top level.\n",
    "   - This search operation at each level takes **O(1)** time on average, but since the height is **O(log n)**, it leads to an overall time complexity of **O(log n)**.\n",
    "\n",
    "3. **Inserting a New Node**:\n",
    "   - The new node is inserted in the appropriate position, and we assign levels based on probability \\( p \\).\n",
    "   - Since each level reduces the search space by a factor, the expected insertion time across all levels remains **O(log n)**.\n",
    "\n",
    "Hence, the expected running time of an insertion operation in a skip list with \\( n \\) entries is:\n",
    "\n",
    "\\[ O(\\log n) \\]\n",
    "\n",
    "### Summary\n",
    "The skip list data structure achieves this efficient insertion time by balancing the list through random levels. \n",
    "This gives skip lists an average time complexity similar to balanced trees, but with simpler insertion logic.\n"
   ]
  },
  {
   "cell_type": "markdown",
   "id": "5f25ddba",
   "metadata": {},
   "source": [
    "# Skip List Implementation and Insertion Test"
   ]
  },
  {
   "cell_type": "markdown",
   "id": "bc9785a8",
   "metadata": {},
   "source": [
    "\n",
    "In this section, we'll implement a basic skip list with insertion functionality and test its insertion time for different values of \\( n \\).\n",
    "This simple implementation will help illustrate the expected **O(log n)** insertion time complexity.\n"
   ]
  },
  {
   "cell_type": "code",
   "execution_count": null,
   "id": "069150f8",
   "metadata": {},
   "outputs": [],
   "source": [
    "\n",
    "import random\n",
    "import time\n",
    "\n",
    "class SkipListNode:\n",
    "    def __init__(self, key, level):\n",
    "        self.key = key\n",
    "        self.forward = [None] * (level + 1)\n",
    "\n",
    "class SkipList:\n",
    "    def __init__(self, max_level, p=0.5):\n",
    "        self.max_level = max_level\n",
    "        self.p = p\n",
    "        self.header = SkipListNode(-1, self.max_level)\n",
    "        self.level = 0\n",
    "\n",
    "    def random_level(self):\n",
    "        level = 0\n",
    "        while random.random() < self.p and level < self.max_level:\n",
    "            level += 1\n",
    "        return level\n",
    "\n",
    "    def insert(self, key):\n",
    "        update = [None] * (self.max_level + 1)\n",
    "        current = self.header\n",
    "\n",
    "        # Start from the highest level of the skip list\n",
    "        for i in range(self.level, -1, -1):\n",
    "            while current.forward[i] and current.forward[i].key < key:\n",
    "                current = current.forward[i]\n",
    "            update[i] = current\n",
    "\n",
    "        # Reached level 0 and forward reference to right node, which is either None or has a greater key\n",
    "        current = current.forward[0]\n",
    "\n",
    "        # If current is None or has a different key than the one we are inserting\n",
    "        if current is None or current.key != key:\n",
    "            new_level = self.random_level()\n",
    "\n",
    "            # If new level is greater than the current level of skip list\n",
    "            if new_level > self.level:\n",
    "                for i in range(self.level + 1, new_level + 1):\n",
    "                    update[i] = self.header\n",
    "                self.level = new_level\n",
    "\n",
    "            # Create new node with the random level generated\n",
    "            new_node = SkipListNode(key, new_level)\n",
    "\n",
    "            # Insert node by updating forward references\n",
    "            for i in range(new_level + 1):\n",
    "                new_node.forward[i] = update[i].forward[i]\n",
    "                update[i].forward[i] = new_node\n"
   ]
  },
  {
   "cell_type": "markdown",
   "id": "1f0b5da8",
   "metadata": {},
   "source": [
    "### Testing Skip List Insertion Performance"
   ]
  },
  {
   "cell_type": "code",
   "execution_count": null,
   "id": "3ef90a7f",
   "metadata": {},
   "outputs": [],
   "source": [
    "\n",
    "def test_skip_list_insertion(n, max_level=16):\n",
    "    skip_list = SkipList(max_level)\n",
    "    start_time = time.time()\n",
    "    \n",
    "    # Insert n elements\n",
    "    for i in range(n):\n",
    "        skip_list.insert(random.randint(1, n))\n",
    "        \n",
    "    end_time = time.time()\n",
    "    print(f\"Inserting {n} elements took {end_time - start_time:.6f} seconds\")\n",
    "\n",
    "# Test insertion time for different values of n\n",
    "test_skip_list_insertion(1000)\n",
    "test_skip_list_insertion(5000)\n",
    "test_skip_list_insertion(10000)\n"
   ]
  }
 ],
 "metadata": {
  "kernelspec": {
   "display_name": "Python 3",
   "language": "python",
   "name": "python3"
  },
  "language_info": {
   "name": "python",
   "version": "3.11.9"
  }
 },
 "nbformat": 4,
 "nbformat_minor": 5
}
