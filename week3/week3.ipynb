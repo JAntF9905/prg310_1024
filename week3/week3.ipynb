{
 "cells": [
  {
   "cell_type": "code",
   "execution_count": 5,
   "metadata": {},
   "outputs": [
    {
     "name": "stdout",
     "output_type": "stream",
     "text": [
      "1\n"
     ]
    }
   ],
   "source": [
    "# Write your code here\n",
    "def MinRec(array, size):\n",
    "    if size == 1:\n",
    "        return array[0]\n",
    "\n",
    "    min_of_array = MinRec(array, size - 1)\n",
    "\n",
    "    if array[size - 1] < min_of_array:\n",
    "        return array[size - 1]\n",
    "    else:\n",
    "        return min_of_array\n",
    "\n",
    "\n",
    "A = [1, 4, 45, 6, 50, 10, 2]\n",
    "n = len(A)\n",
    "print(MinRec(A, n))"
   ]
  },
  {
   "cell_type": "code",
   "execution_count": 7,
   "metadata": {},
   "outputs": [
    {
     "name": "stdout",
     "output_type": "stream",
     "text": [
      "True\n",
      "False\n"
     ]
    }
   ],
   "source": [
    "A = {1, 2, 4}\n",
    "B = {1, 2, 4, 5, 6, 7}\n",
    "print(A <= B)\n",
    "print(A >= B)"
   ]
  },
  {
   "cell_type": "markdown",
   "metadata": {},
   "source": [
    "In a \\((2, 4)\\) tree (also known as a \\(B\\)-tree of order 4), the split, transfer, and fusion operations are relatively efficient and are performed as part of the tree's balancing mechanisms. Here’s a breakdown of the time complexity of each operation given a \\((2, 4)\\) tree with \\(n\\) key-value pairs:\n",
    "\n",
    "### 1. **Split Operation**\n",
    "\n",
    "- **Description:** A split occurs when a node with 4 children (and thus 3 keys) receives an additional key and needs to divide into two nodes to maintain the \\((2, 4)\\) tree property.\n",
    "- **Time Complexity:** \\(O(\\log n)\\)\n",
    "  - Splitting a node itself is \\(O(1)\\), but as you move up the tree (if required), it could involve multiple splits in the worst case, resulting in \\(O(\\log n)\\) time complexity for the entire operation.\n",
    "  - Insertion generally takes \\(O(\\log n)\\) time because it follows the tree path from root to the leaf.\n",
    "\n",
    "### 2. **Transfer Operation**\n",
    "\n",
    "- **Description:** A transfer operation redistributes keys between sibling nodes to maintain the \\((2, 4)\\) properties. This is usually done during deletion when a node has too few keys.\n",
    "- **Time Complexity:** \\(O(1)\\)\n",
    "  - This operation is done between adjacent nodes, and since we’re working within a constant number of keys (at most 4 in each node), the time complexity is \\(O(1)\\).\n",
    "\n",
    "### 3. **Fusion Operation**\n",
    "\n",
    "- **Description:** Fusion (or merge) combines two nodes when one of them has too few keys after a deletion. This operation is used to balance the tree by reducing the number of nodes when necessary.\n",
    "- **Time Complexity:** \\(O(\\log n)\\)\n",
    "  - Like split, fusion can propagate upward if a parent node ends up needing fusion, potentially affecting multiple levels up to the root in the worst case. This can lead to \\(O(\\log n)\\) time complexity for the operation.\n",
    "\n",
    "### Summary\n",
    "\n",
    "- **Split:** \\(O(\\log n)\\)\n",
    "- **Transfer:** \\(O(1)\\)\n",
    "- **Fusion:** \\(O(\\log n)\\)\n",
    "\n",
    "Since \\((2, 4)\\) trees are designed to be height-balanced, the operations generally don’t propagate far up the tree, so most of the time, these operations are efficient. However, in the worst-case scenario, split and fusion may involve multiple levels and reach \\(O(\\log n)\\)."
   ]
  },
  {
   "cell_type": "code",
   "execution_count": 8,
   "metadata": {},
   "outputs": [
    {
     "name": "stdout",
     "output_type": "stream",
     "text": [
      "False\n",
      "True\n"
     ]
    }
   ],
   "source": [
    "A = {\"Red\", \"Yellow\", \"Orange\"}\n",
    "B = {\"Red\", \"Green\", \"Blue\"}\n",
    "print(A.isdisjoint(B))\n",
    "print(A != B)"
   ]
  }
 ],
 "metadata": {
  "kernelspec": {
   "display_name": "Python 3",
   "language": "python",
   "name": "python3"
  },
  "language_info": {
   "codemirror_mode": {
    "name": "ipython",
    "version": 3
   },
   "file_extension": ".py",
   "mimetype": "text/x-python",
   "name": "python",
   "nbconvert_exporter": "python",
   "pygments_lexer": "ipython3",
   "version": "3.11.9"
  }
 },
 "nbformat": 4,
 "nbformat_minor": 2
}
