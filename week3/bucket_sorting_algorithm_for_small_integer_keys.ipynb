{
 "cells": [
  {
   "cell_type": "markdown",
   "id": "7677914b",
   "metadata": {},
   "source": [
    "# Ideal Sorting Algorithm for Small Integer Keys and Character Strings"
   ]
  },
  {
   "cell_type": "markdown",
   "id": "395c72d5",
   "metadata": {},
   "source": [
    "\n",
    "In applications where we need to sort entries with small integer keys and character strings from a discrete range, \n",
    "**Counting Sort** is often an excellent choice. Counting Sort is especially efficient for sorting integers within a small range \n",
    "because it operates in linear time, **O(n + k)**, where \\( n \\) is the number of elements to be sorted, and \\( k \\) is the range \n",
    "of input values (small in this case).\n",
    "\n",
    "## Why Counting Sort?\n",
    "1. **Counting Sort is non-comparative**: Unlike typical comparison-based sorting algorithms (e.g., QuickSort, MergeSort), \n",
    "   Counting Sort leverages the known range of keys to directly calculate positions, avoiding unnecessary comparisons.\n",
    "   \n",
    "2. **Optimal for small integer ranges**: Since Counting Sort requires additional space proportional to the range \\( k \\), \n",
    "   it becomes very efficient for applications with small integer ranges.\n",
    "\n",
    "3. **Handles character strings well**: When sorting character strings, Counting Sort can be applied to each character \n",
    "   position, allowing for efficient sorting. This is often combined with **Radix Sort** for multi-character strings, \n",
    "   where each character position represents a digit in a multi-digit number.\n",
    "\n",
    "## When to Use Counting Sort\n",
    "Counting Sort is suitable when:\n",
    "- The keys are integers within a limited range.\n",
    "- We want a stable, linear-time sort.\n",
    "- The data set size is manageable with the extra space needed.\n",
    "\n"
   ]
  },
  {
   "cell_type": "markdown",
   "id": "6b41c5d3",
   "metadata": {},
   "source": [
    "## Example: Counting Sort Implementation"
   ]
  },
  {
   "cell_type": "code",
   "execution_count": 1,
   "id": "56688b85",
   "metadata": {},
   "outputs": [
    {
     "name": "stdout",
     "output_type": "stream",
     "text": [
      "Original array: [3, 5, 1, 2, 3, 1, 0, 2]\n",
      "Sorted array: [0, 1, 1, 2, 2, 3, 3, 5]\n"
     ]
    }
   ],
   "source": [
    "\n",
    "def counting_sort(arr, max_value):\n",
    "    # Initialize the count array\n",
    "    count = [0] * (max_value + 1)\n",
    "    \n",
    "    # Store the count of each element\n",
    "    for num in arr:\n",
    "        count[num] += 1\n",
    "    \n",
    "    # Calculate the cumulative count\n",
    "    for i in range(1, max_value + 1):\n",
    "        count[i] += count[i - 1]\n",
    "    \n",
    "    # Place elements in sorted order in the output array\n",
    "    output = [0] * len(arr)\n",
    "    for num in reversed(arr):\n",
    "        output[count[num] - 1] = num\n",
    "        count[num] -= 1\n",
    "    \n",
    "    return output\n",
    "\n",
    "# Example usage\n",
    "arr = [3, 5, 1, 2, 3, 1, 0, 2]\n",
    "max_value = max(arr)\n",
    "sorted_arr = counting_sort(arr, max_value)\n",
    "\n",
    "print(\"Original array:\", arr)\n",
    "print(\"Sorted array:\", sorted_arr)\n"
   ]
  },
  {
   "cell_type": "markdown",
   "id": "3558e48a",
   "metadata": {},
   "source": [
    "### Explanation of Code"
   ]
  },
  {
   "cell_type": "markdown",
   "id": "5a12cb56",
   "metadata": {},
   "source": [
    "\n",
    "1. **Initialize count array**: A count array is initialized to hold counts of each integer key within the specified range.\n",
    "2. **Store counts**: Each element's count is stored in the count array, which effectively counts occurrences.\n",
    "3. **Calculate cumulative counts**: This step adjusts the count array to store positions of elements in the final sorted array.\n",
    "4. **Place elements in sorted order**: By iterating backward through the original array, we place each element in its correct position in the sorted output, ensuring stability.\n",
    "\n",
    "### Complexity Analysis\n",
    "- **Time Complexity**: \\( O(n + k) \\), where \\( n \\) is the number of elements in the array, and \\( k \\) is the range of input values.\n",
    "- **Space Complexity**: \\( O(n + k) \\), as we use an output array and a count array proportional to \\( k \\).\n"
   ]
  },
  {
   "cell_type": "markdown",
   "id": "2a8f41f4",
   "metadata": {},
   "source": [
    "# Alternative Sorting Algorithm: Bucket Sort"
   ]
  },
  {
   "cell_type": "markdown",
   "id": "e836e40c",
   "metadata": {},
   "source": [
    "\n",
    "**Bucket Sort** can also be a good choice when sorting entries with small integer keys and character strings from a discrete range. \n",
    "Bucket Sort works by distributing elements into a series of \"buckets\" and then sorting each bucket individually. \n",
    "This is particularly efficient when the data is uniformly distributed across a range of values.\n",
    "\n",
    "## Why Bucket Sort?\n",
    "1. **Good for uniform distributions**: If the integer keys or character strings are uniformly distributed, Bucket Sort performs efficiently.\n",
    "2. **Handles discrete character strings well**: When dealing with character strings, each string can be mapped to a bucket based on its value.\n",
    "3. **Efficient for small ranges**: Bucket Sort is especially effective for small ranges because fewer elements fall into each bucket.\n",
    "\n",
    "However, if the values are not uniformly distributed, Bucket Sort might not achieve the optimal linear complexity. In such cases, **Counting Sort** may be more efficient.\n",
    "\n",
    "## Example: Bucket Sort Implementation\n",
    "Below is a simple implementation of Bucket Sort that can handle integer keys and small ranges effectively.\n"
   ]
  },
  {
   "cell_type": "code",
   "execution_count": null,
   "id": "009961e0",
   "metadata": {},
   "outputs": [],
   "source": [
    "\n",
    "def bucket_sort(arr, bucket_size=10):\n",
    "    if len(arr) == 0:\n",
    "        return arr\n",
    "\n",
    "    # Determine minimum and maximum values\n",
    "    min_value, max_value = min(arr), max(arr)\n",
    "    \n",
    "    # Initialize buckets\n",
    "    bucket_count = (max_value - min_value) // bucket_size + 1\n",
    "    buckets = [[] for _ in range(bucket_count)]\n",
    "\n",
    "    # Distribute input array values into buckets\n",
    "    for num in arr:\n",
    "        bucket_index = (num - min_value) // bucket_size\n",
    "        buckets[bucket_index].append(num)\n",
    "\n",
    "    # Sort individual buckets and concatenate results\n",
    "    sorted_array = []\n",
    "    for bucket in buckets:\n",
    "        sorted_array.extend(sorted(bucket))\n",
    "    \n",
    "    return sorted_array\n",
    "\n",
    "# Example usage\n",
    "arr = [29, 25, 3, 49, 9, 37, 21, 43]\n",
    "sorted_arr = bucket_sort(arr)\n",
    "\n",
    "print(\"Original array:\", arr)\n",
    "print(\"Sorted array using Bucket Sort:\", sorted_arr)\n"
   ]
  },
  {
   "cell_type": "markdown",
   "id": "b774f497",
   "metadata": {},
   "source": [
    "### Complexity Analysis of Bucket Sort"
   ]
  },
  {
   "cell_type": "markdown",
   "id": "d2f1f788",
   "metadata": {},
   "source": [
    "\n",
    "1. **Time Complexity**: \\( O(n + k) \\), where \\( n \\) is the number of elements, and \\( k \\) is the number of buckets.\n",
    "   - Bucket Sort is linear \\(O(n)\\) when the input is uniformly distributed, but can degrade to \\( O(n^2) \\) if the elements are not well-distributed.\n",
    "2. **Space Complexity**: \\( O(n + k) \\), where \\( k \\) is the number of buckets and additional storage for sorting each bucket.\n",
    "\n",
    "### When to Use Bucket Sort\n",
    "Bucket Sort is ideal when:\n",
    "- The input elements are uniformly distributed within a known range.\n",
    "- The data size and range of values are manageable.\n",
    "- We prefer a simple and relatively fast sorting solution for discrete values.\n"
   ]
  }
 ],
 "metadata": {
  "kernelspec": {
   "display_name": "Python 3",
   "language": "python",
   "name": "python3"
  },
  "language_info": {
   "codemirror_mode": {
    "name": "ipython",
    "version": 3
   },
   "file_extension": ".py",
   "mimetype": "text/x-python",
   "name": "python",
   "nbconvert_exporter": "python",
   "pygments_lexer": "ipython3",
   "version": "3.11.9"
  }
 },
 "nbformat": 4,
 "nbformat_minor": 5
}
